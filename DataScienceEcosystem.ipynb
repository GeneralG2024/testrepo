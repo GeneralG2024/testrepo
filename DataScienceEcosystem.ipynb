{
  "nbformat": 4,
  "nbformat_minor": 0,
  "metadata": {
    "colab": {
      "provenance": []
    },
    "kernelspec": {
      "name": "python3",
      "display_name": "Python 3"
    },
    "language_info": {
      "name": "python"
    }
  },
  "cells": [
    {
      "cell_type": "code",
      "execution_count": null,
      "metadata": {
        "id": "zW_OqWn0HRH6"
      },
      "outputs": [],
      "source": []
    },
    {
      "cell_type": "markdown",
      "source": [
        "Data Science Tools and Ecosystem"
      ],
      "metadata": {
        "id": "OgSAoVmAJd1n"
      }
    },
    {
      "cell_type": "markdown",
      "source": [],
      "metadata": {
        "id": "nOYCgDQoJonB"
      }
    },
    {
      "cell_type": "markdown",
      "source": [
        "#Data Science Tools and Ecosystem"
      ],
      "metadata": {
        "id": "aCTYjUzoJrzR"
      }
    },
    {
      "cell_type": "markdown",
      "source": [
        "In this notebook, Data Science Tools and Ecosystem are summarized."
      ],
      "metadata": {
        "id": "y6a5UrVSKO0s"
      }
    },
    {
      "cell_type": "markdown",
      "source": [
        "**Objectives:**\n",
        "- list popular languages for data science\n",
        "- list popular tools for data science\n",
        "- how to use markdowns in notebooks"
      ],
      "metadata": {
        "id": "MqhkL2y7VhD2"
      }
    },
    {
      "cell_type": "markdown",
      "source": [
        "Some of the popular languages that Data Scientists use are:\n",
        "1. R\n",
        "2. Python\n",
        "3. Scala"
      ],
      "metadata": {
        "id": "WqXeblp6KjaS"
      }
    },
    {
      "cell_type": "markdown",
      "source": [
        "Some of the commonly used libraries used by Data Scientists include:\n",
        "1. gplot\n",
        "2. pandas\n",
        "3. tensorflow"
      ],
      "metadata": {
        "id": "7ejtahTQLCuK"
      }
    },
    {
      "cell_type": "markdown",
      "source": [
        "|Data Science Tools|\n",
        "|---|\n",
        "|R studio|\n",
        "|Anaconda|\n",
        "|Jupyter Notebooks|"
      ],
      "metadata": {
        "id": "UEHUY6wkLZO2"
      }
    },
    {
      "cell_type": "markdown",
      "source": [
        "###Below are a few examples of evaluating arithmetic expressions in Python."
      ],
      "metadata": {
        "id": "psJzb38lTbCa"
      }
    },
    {
      "cell_type": "code",
      "source": [
        " #This a simple arithmetic expression to mutiply then add integers\n",
        " (3*4)+5"
      ],
      "metadata": {
        "colab": {
          "base_uri": "https://localhost:8080/"
        },
        "id": "nO43Cy1-T0nc",
        "outputId": "f60e8525-a35f-4e32-c45a-52ea1414a286"
      },
      "execution_count": 2,
      "outputs": [
        {
          "output_type": "execute_result",
          "data": {
            "text/plain": [
              "17"
            ]
          },
          "metadata": {},
          "execution_count": 2
        }
      ]
    },
    {
      "cell_type": "code",
      "source": [
        "#This will convert 200 minutes to hours by diving by 60\n",
        "200/60"
      ],
      "metadata": {
        "colab": {
          "base_uri": "https://localhost:8080/"
        },
        "id": "VFNDFWJCURcF",
        "outputId": "a3c3266e-b5d0-4219-94a0-ad646f8454d0"
      },
      "execution_count": 3,
      "outputs": [
        {
          "output_type": "execute_result",
          "data": {
            "text/plain": [
              "3.3333333333333335"
            ]
          },
          "metadata": {},
          "execution_count": 3
        }
      ]
    },
    {
      "cell_type": "markdown",
      "source": [],
      "metadata": {
        "id": "2Wu8-BPegylm"
      }
    },
    {
      "cell_type": "markdown",
      "source": [
        "##Author\n",
        "Ovar Genaro Bibriesca Garcia"
      ],
      "metadata": {
        "id": "11Dr8MFog1kc"
      }
    },
    {
      "cell_type": "code",
      "source": [],
      "metadata": {
        "id": "DhQOxSD6gyXK"
      },
      "execution_count": null,
      "outputs": []
    }
  ]
}